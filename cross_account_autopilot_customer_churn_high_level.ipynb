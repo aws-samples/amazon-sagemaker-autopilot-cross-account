{
 "cells": [
  {
   "cell_type": "markdown",
   "source": [
    "# Add AutoML functionality with Amazon SageMaker Autopilot across accounts\n",
    "\n",
    "AutoML is a powerful capability, provided by [Amazon SageMaker Autopilot](https://aws.amazon.com/sagemaker/autopilot/), that allows non-experts to easily create machine learning models to invoke in their applications.\n",
    "\n",
    "The problem that we want to solve arises when, due to governance constraints, the [Amazon SageMaker](https://aws.amazon.com/sagemaker/) resources cannot be deployed in the same AWS account where they are used.\n",
    "\n",
    "Examples of such a situation are:\n",
    "\n",
    "1. A multi-account Enterprise setup of AWS where the Autopilot resources must be deployed in a specific AWS account (the trusting account) and should be accessed from trusted accounts\n",
    "2. A software as a service (SaaS) that offers AutoML to their users and adopts the resources in the customer AWS account so that the billing is associated to the end customer\n",
    "\n",
    "This notebook walks through the implementation using the SageMaker Python SDK. It is divided into two sections:\n",
    "* Create the [AWS Identity and Access Management](https://aws.amazon.com/iam/) (IAM) resources needed for cross-account access\n",
    "* Perform the Autopilot Job, deploy the best model, and make predictions from the trusted account accessing the trusting account \n",
    "\n",
    "For full explanation of SageMaker Autopilot you can refer to the examples available in GitHub, particularly [Top Candidates Customer Churn Prediction with Amazon SageMaker Autopilot and Batch Transform (Python SDK)](https://github.com/aws/amazon-sagemaker-examples/blob/master/autopilot/autopilot_customer_churn_high_level_with_evaluation.ipynb)."
   ],
   "metadata": {}
  },
  {
   "cell_type": "markdown",
   "source": [
    "## Prerequisites\n",
    "\n",
    "We have two AWS accounts:\n",
    "- **Customer (trusting) account** - Where the SageMaker resources are deployed\n",
    "- **SaaS (trusted) account** - Drives the training and prediction activities\n",
    "\n",
    "You have to [create a user](https://docs.aws.amazon.com/IAM/latest/UserGuide/id_users_create.html#id_users_create_console) for each account, with programmatic access enabled and the `IAMFullAccess` managed policy associated (hint: for simplicity name the users as their profiles defined below).\n",
    "\n",
    "You have to [configure the user profiles](https://docs.aws.amazon.com/cli/latest/userguide/cli-configure-profiles.html) in the `.aws/credentials` file:\n",
    "- `customer_config` for the user configured in the customer account\n",
    "- `saas_config` for the user configured in the SaaS account\n",
    "\n",
    "To apply more restrictive permission to the users configured in the two accounts consider applying the following policies instead of `IAMFullAccess`.\n",
    "\n",
    "For the user associated to the `saas_config` profile the policy is:\n",
    "\n",
    "```python\n",
    "{\n",
    "    \"Version\": \"2012-10-17\",\n",
    "    \"Statement\": [\n",
    "        {\n",
    "            \"Effect\": \"Allow\",\n",
    "            \"Action\": [\n",
    "                \"iam:CreateUser\",\n",
    "                \"iam:DeleteUser\",\n",
    "                \"iam:CreateAccessKey\",\n",
    "                \"iam:DeleteAccessKey\",\n",
    "                \"iam:ListAccessKeys\"\n",
    "            ],\n",
    "            \"Resource\": \"arn:aws:iam::<ACCOUNT_NUMBER>:user/*\"\n",
    "        },\n",
    "        {\n",
    "            \"Effect\": \"Allow\",\n",
    "            \"Action\": [\n",
    "                \"iam:CreateGroup\",\n",
    "                \"iam:DeleteGroup\",\n",
    "                \"iam:AddUserToGroup\",\n",
    "                \"iam:RemoveUserFromGroup\",\n",
    "                \"iam:AttachGroupPolicy\",\n",
    "                \"iam:DetachGroupPolicy\",\n",
    "                \"iam:ListAttachedGroupPolicies\"\n",
    "            ],\n",
    "            \"Resource\": \"arn:aws:iam::<ACCOUNT_NUMBER>:group/*\"\n",
    "        },\n",
    "        {\n",
    "            \"Effect\": \"Allow\",\n",
    "            \"Action\": [\n",
    "                \"iam:CreatePolicy\",\n",
    "                \"iam:DeletePolicy\"\n",
    "            ],\n",
    "            \"Resource\": \"arn:aws:iam::<ACCOUNT_NUMBER>:policy/*\"\n",
    "        }\n",
    "    ]\n",
    "}\n",
    "```\n",
    "\n",
    "For the user associated to the `customer_config` profile the policy is:\n",
    "\n",
    "```python\n",
    "{\n",
    "    \"Version\": \"2012-10-17\",\n",
    "    \"Statement\": [\n",
    "        {\n",
    "            \"Effect\": \"Allow\",\n",
    "            \"Action\": [\n",
    "                \"iam:AttachRolePolicy\",\n",
    "                \"iam:DetachRolePolicy\",\n",
    "                \"iam:ListAttachedRolePolicies\",\n",
    "                \"iam:CreateRole\",\n",
    "                \"iam:DeleteRole\"\n",
    "            ],\n",
    "            \"Resource\": \"arn:aws:iam::<ACCOUNT_NUMBER>:role/*\"\n",
    "        },\n",
    "        {\n",
    "            \"Effect\": \"Allow\",\n",
    "            \"Action\": [\n",
    "                \"iam:CreatePolicy\",\n",
    "                \"iam:DeletePolicy\"\n",
    "            ],\n",
    "            \"Resource\": \"arn:aws:iam::<ACCOUNT_NUMBER>:policy/*\"\n",
    "        }\n",
    "    ]\n",
    "}\n",
    "```\n",
    "\n",
    "To update to the last release of the [SageMaker SDK](https://pypi.org/project/sagemaker/):\n",
    "\n",
    "```python\n",
    "!pip install --upgrade sagemaker\n",
    "```"
   ],
   "metadata": {}
  },
  {
   "cell_type": "markdown",
   "source": [
    "### Import of common python modules used in the script"
   ],
   "metadata": {}
  },
  {
   "cell_type": "code",
   "execution_count": null,
   "source": [
    "import boto3\r\n",
    "import json\r\n",
    "import sagemaker\r\n",
    "from botocore.exceptions import ClientError"
   ],
   "outputs": [],
   "metadata": {}
  },
  {
   "cell_type": "markdown",
   "source": [
    "Let's define the AWS Region that will host the resources, we use the default Region configured in [~/.aws/config](https://docs.aws.amazon.com/cli/latest/userguide/cli-configure-files.html):"
   ],
   "metadata": {}
  },
  {
   "cell_type": "code",
   "execution_count": null,
   "source": [
    "REGION = boto3.Session().region_name"
   ],
   "outputs": [],
   "metadata": {}
  },
  {
   "cell_type": "markdown",
   "source": [
    "And the reference to the Dataset for the training of the model:"
   ],
   "metadata": {}
  },
  {
   "cell_type": "code",
   "execution_count": null,
   "source": [
    "DATASET_URI = \"s3://sagemaker-sample-files/datasets/tabular/synthetic/churn.txt\""
   ],
   "outputs": [],
   "metadata": {}
  },
  {
   "cell_type": "markdown",
   "source": [
    "## Setup of the IAM Entities\n",
    "\n",
    "We proceed to establish the sessions used to retrieve the account IDs and initialize the IAM client for each user profile, that is used for the configuration of the IAM entities.\n",
    "\n",
    "For each of the two accounts we: \n",
    "* Create the boto3 session with the profile of the respective configuration user\n",
    "* Retrieve the account ID by means of AWS STS\n",
    "* Create the IAM client that performs the configuration steps in the account\n",
    "\n",
    "\n",
    "For the **customer account**:"
   ],
   "metadata": {}
  },
  {
   "cell_type": "code",
   "execution_count": null,
   "source": [
    "customer_config_session = boto3.session.Session(profile_name=\"customer_config\")\r\n",
    "CUSTOMER_ACCOUNT_ID = customer_config_session.client(\"sts\").get_caller_identity()[\"Account\"]\r\n",
    "customer_iam_client = customer_config_session.client(\"iam\")"
   ],
   "outputs": [],
   "metadata": {}
  },
  {
   "cell_type": "markdown",
   "source": [
    "And the same for the **SaaS account**:"
   ],
   "metadata": {}
  },
  {
   "cell_type": "code",
   "execution_count": null,
   "source": [
    "saas_config_session = boto3.session.Session(profile_name=\"saas_config\")\r\n",
    "SAAS_ACCOUNT_ID = saas_config_session.client(\"sts\").get_caller_identity()[\"Account\"]\r\n",
    "saas_iam_client = saas_config_session.client(\"iam\")"
   ],
   "outputs": [],
   "metadata": {}
  },
  {
   "cell_type": "markdown",
   "source": [
    "### Set up the IAM entities in the customer account\n",
    "\n",
    "Let's first define the role needed to perform cross-account tasks from the SaaS account in the customer account. \n",
    "\n",
    "For simplicity the same role is adopted for trusting the SageMaker service in the customer account. Ideally consider splitting this role into two roles with fine-grained permissions in line with the principle of granting the [least privilege](https://docs.aws.amazon.com/IAM/latest/UserGuide/best-practices.html#grant-least-privilege).\n",
    "\n",
    "The role name and the references to the ARN of the SageMaker AWS managed policies are as follows:"
   ],
   "metadata": {}
  },
  {
   "cell_type": "code",
   "execution_count": null,
   "source": [
    "CUSTOMER_TRUST_SAAS_ROLE_NAME = \"customer_trusting_saas\"\r\n",
    "CUSTOMER_TRUST_SAAS_ROLE_ARN = \"arn:aws:iam::{}:role/{}\".format(\r\n",
    "    CUSTOMER_ACCOUNT_ID, CUSTOMER_TRUST_SAAS_ROLE_NAME\r\n",
    ")\r\n",
    "SAGEMAKERFULLACCESS_POLICY_ARN = \"arn:aws:iam::aws:policy/AmazonSageMakerFullAccess\""
   ],
   "outputs": [],
   "metadata": {}
  },
  {
   "cell_type": "markdown",
   "source": [
    "The following customer managed policy gives the role the permissions to access the Amazon S3 resources, needed for the SageMaker tasks and for the cross-account copy of the dataset. \n",
    "\n",
    "We restrict the access to the Amazon S3 buckets that start with the `sagemaker-` prefix, and are conformed to the default Amazon S3 buckets dedicated to SageMaker in the AWS Regions for the customer account."
   ],
   "metadata": {}
  },
  {
   "cell_type": "code",
   "execution_count": null,
   "source": [
    "CUSTOMER_S3_POLICY_NAME = \"customer_s3\"\r\n",
    "CUSTOMER_S3_POLICY = {\r\n",
    "    \"Version\": \"2012-10-17\",\r\n",
    "    \"Statement\": [\r\n",
    "        {\r\n",
    "            \"Effect\": \"Allow\",\r\n",
    "            \"Action\": [\"s3:GetObject\", \"s3:PutObject\", \"s3:DeleteObject\", \"s3:ListBucket\"],\r\n",
    "            \"Resource\": [\r\n",
    "                \"arn:aws:s3:::sagemaker-{}-{}\".format(REGION, CUSTOMER_ACCOUNT_ID),\r\n",
    "                \"arn:aws:s3:::sagemaker-{}-{}/*\".format(REGION, CUSTOMER_ACCOUNT_ID),\r\n",
    "            ],\r\n",
    "        }\r\n",
    "    ],\r\n",
    "}"
   ],
   "outputs": [],
   "metadata": {}
  },
  {
   "cell_type": "markdown",
   "source": [
    "Then we define the **external ID** to mitigate the [confused deputy problem](https://docs.aws.amazon.com/IAM/latest/UserGuide/id_roles_create_for-user_externalid.html)"
   ],
   "metadata": {}
  },
  {
   "cell_type": "code",
   "execution_count": null,
   "source": [
    "EXTERNAL_ID = \"12345\""
   ],
   "outputs": [],
   "metadata": {}
  },
  {
   "cell_type": "markdown",
   "source": [
    "The **trust relationships** policy accomplishes two objectives: allow the principals from the trusted account and the SageMaker to assume the role"
   ],
   "metadata": {}
  },
  {
   "cell_type": "code",
   "execution_count": null,
   "source": [
    "CUSTOMER_TRUST_SAAS_POLICY = {\r\n",
    "    \"Version\": \"2012-10-17\",\r\n",
    "    \"Statement\": [\r\n",
    "        {\r\n",
    "            \"Effect\": \"Allow\",\r\n",
    "            \"Principal\": {\"AWS\": \"arn:aws:iam::{}:root\".format(SAAS_ACCOUNT_ID)},\r\n",
    "            \"Action\": \"sts:AssumeRole\",\r\n",
    "            \"Condition\": {\"StringEquals\": {\"sts:ExternalId\": EXTERNAL_ID}},\r\n",
    "        },\r\n",
    "        {\r\n",
    "            \"Effect\": \"Allow\",\r\n",
    "            \"Principal\": {\"Service\": \"sagemaker.amazonaws.com\"},\r\n",
    "            \"Action\": \"sts:AssumeRole\",\r\n",
    "        },\r\n",
    "    ],\r\n",
    "}"
   ],
   "outputs": [],
   "metadata": {}
  },
  {
   "cell_type": "markdown",
   "source": [
    "First we create the customer managed policy in the customer account:"
   ],
   "metadata": {}
  },
  {
   "cell_type": "code",
   "execution_count": null,
   "source": [
    "try:\r\n",
    "    create_policy_response = customer_iam_client.create_policy(\r\n",
    "        PolicyName=CUSTOMER_S3_POLICY_NAME, PolicyDocument=json.dumps(CUSTOMER_S3_POLICY)\r\n",
    "    )\r\n",
    "    customer_s3_policy_arn = create_policy_response[\"Policy\"][\"Arn\"]\r\n",
    "except ClientError as error:\r\n",
    "    if error.response[\"Error\"][\"Code\"] == \"EntityAlreadyExists\":\r\n",
    "        print(\"Policy already exists... hence retrieving policy arn\")\r\n",
    "        customer_s3_policy_arn = (\r\n",
    "            \"arn:aws:iam::\" + CUSTOMER_ACCOUNT_ID + \":policy/\" + CUSTOMER_S3_POLICY_NAME\r\n",
    "        )\r\n",
    "    else:\r\n",
    "        print(\"Unexpected error occured while creating policy...\", error)"
   ],
   "outputs": [],
   "metadata": {}
  },
  {
   "cell_type": "markdown",
   "source": [
    "Then we create the new role. We specify the [maximum session duration for the role](https://docs.aws.amazon.com/IAM/latest/UserGuide/id_roles_use.html#id_roles_use_view-role-max-session) to manage long-running Autopilot jobs, set to 3 hours:"
   ],
   "metadata": {}
  },
  {
   "cell_type": "code",
   "execution_count": null,
   "source": [
    "# set to 3 hours\r\n",
    "MAX_SESSION_DURATION = 10800\r\n",
    "\r\n",
    "try:\r\n",
    "    create_role_response = customer_iam_client.create_role(\r\n",
    "        RoleName=CUSTOMER_TRUST_SAAS_ROLE_NAME,\r\n",
    "        AssumeRolePolicyDocument=json.dumps(CUSTOMER_TRUST_SAAS_POLICY),\r\n",
    "        MaxSessionDuration=MAX_SESSION_DURATION,\r\n",
    "    )\r\n",
    "except ClientError as error:\r\n",
    "    if error.response[\"Error\"][\"Code\"] == \"EntityAlreadyExists\":\r\n",
    "        print(\"Role already exists... reusing it\")\r\n",
    "    else:\r\n",
    "        print(\"Unexpected error occurred... Role could not be created\", error)"
   ],
   "outputs": [],
   "metadata": {}
  },
  {
   "cell_type": "markdown",
   "source": [
    "And we attach the two policies:"
   ],
   "metadata": {}
  },
  {
   "cell_type": "code",
   "execution_count": null,
   "source": [
    "try:\r\n",
    "    policy_attach_response = customer_iam_client.attach_role_policy(\r\n",
    "        RoleName=CUSTOMER_TRUST_SAAS_ROLE_NAME, PolicyArn=customer_s3_policy_arn\r\n",
    "    )\r\n",
    "except ClientError as error:\r\n",
    "    print(\"Policy could not be attached...\", error)\r\n",
    "\r\n",
    "try:\r\n",
    "    policy_attach_response = customer_iam_client.attach_role_policy(\r\n",
    "        RoleName=CUSTOMER_TRUST_SAAS_ROLE_NAME, PolicyArn=SAGEMAKERFULLACCESS_POLICY_ARN\r\n",
    "    )\r\n",
    "except ClientError as error:\r\n",
    "    print(\"Policy could not be attached...\", error)"
   ],
   "outputs": [],
   "metadata": {}
  },
  {
   "cell_type": "markdown",
   "source": [
    "### Set up the IAM Entities in the SaaS Account\n",
    "\n",
    "We define:\n",
    "- A group of users enabled to perform the Autopilot job in the customer account\n",
    "- A policy associated to the group for assuming the role defined in the customer account\n",
    "- A policy associated with the group for uploading data on Amazon S3 and managing bucket policies\n",
    "- A user that is responsible for the execution of the Autopilot jobs; the user has programmatic access\n",
    "- A user profile to store the user access key and secret in the file for the credentials\n",
    "\n",
    "Let's start defining the name of the group:"
   ],
   "metadata": {}
  },
  {
   "cell_type": "code",
   "execution_count": null,
   "source": [
    "SAAS_USER_GROUP_NAME = \"AutopilotUsers\""
   ],
   "outputs": [],
   "metadata": {}
  },
  {
   "cell_type": "markdown",
   "source": [
    "The first policy refers to the customer account ID and the role:"
   ],
   "metadata": {}
  },
  {
   "cell_type": "code",
   "execution_count": null,
   "source": [
    "SAAS_ASSUME_ROLE_POLICY_NAME = \"saas_assume_customer_role\"\r\n",
    "SAAS_ASSUME_ROLE_POLICY = {\r\n",
    "    \"Version\": \"2012-10-17\",\r\n",
    "    \"Statement\": [\r\n",
    "        {\r\n",
    "            \"Effect\": \"Allow\",\r\n",
    "            \"Action\": \"sts:AssumeRole\",\r\n",
    "            \"Resource\": \"arn:aws:iam::{}:role/{}\".format(\r\n",
    "                CUSTOMER_ACCOUNT_ID, CUSTOMER_TRUST_SAAS_ROLE_NAME\r\n",
    "            ),\r\n",
    "        }\r\n",
    "    ],\r\n",
    "}"
   ],
   "outputs": [],
   "metadata": {}
  },
  {
   "cell_type": "markdown",
   "source": [
    "The second policy is needed to download the dataset, and to create a SageMaker bucket, manage objects in it and associate new bucket policies to the bucket"
   ],
   "metadata": {}
  },
  {
   "cell_type": "code",
   "execution_count": null,
   "source": [
    "SAAS_S3_POLICY_NAME = \"saas_s3\"\r\n",
    "SAAS_S3_POLICY = {\r\n",
    "    \"Version\": \"2012-10-17\",\r\n",
    "    \"Statement\": [\r\n",
    "        {\r\n",
    "            \"Effect\": \"Allow\",\r\n",
    "            \"Action\": [\"s3:GetObject\"],\r\n",
    "            \"Resource\": [\"arn:aws:s3:::{}\".format(DATASET_URI.split(\"://\")[1])],\r\n",
    "        },\r\n",
    "        {\r\n",
    "            \"Effect\": \"Allow\",\r\n",
    "            \"Action\": [\r\n",
    "                \"s3:CreateBucket\",\r\n",
    "                \"s3:GetObject\",\r\n",
    "                \"s3:PutObject\",\r\n",
    "                \"s3:DeleteObject\",\r\n",
    "                \"s3:PutBucketPolicy\",\r\n",
    "                \"s3:DeleteBucketPolicy\",\r\n",
    "            ],\r\n",
    "            \"Resource\": [\r\n",
    "                \"arn:aws:s3:::sagemaker-{}-{}\".format(REGION, SAAS_ACCOUNT_ID),\r\n",
    "                \"arn:aws:s3:::sagemaker-{}-{}/*\".format(REGION, SAAS_ACCOUNT_ID),\r\n",
    "            ],\r\n",
    "        },\r\n",
    "    ],\r\n",
    "}"
   ],
   "outputs": [],
   "metadata": {}
  },
  {
   "cell_type": "markdown",
   "source": [
    "For simplicity, we give the same value to the username and to the user profile:"
   ],
   "metadata": {}
  },
  {
   "cell_type": "code",
   "execution_count": null,
   "source": [
    "SAAS_USER_PROFILE = SAAS_USER_NAME = \"saas_user\""
   ],
   "outputs": [],
   "metadata": {}
  },
  {
   "cell_type": "markdown",
   "source": [
    "#### setup\n",
    "\n",
    "Now we create the two new managed policies:"
   ],
   "metadata": {}
  },
  {
   "cell_type": "code",
   "execution_count": null,
   "source": [
    "try:\r\n",
    "    create_policy_response = saas_iam_client.create_policy(\r\n",
    "        PolicyName=SAAS_ASSUME_ROLE_POLICY_NAME, PolicyDocument=json.dumps(SAAS_ASSUME_ROLE_POLICY)\r\n",
    "    )\r\n",
    "    saas_assume_role_policy_arn = create_policy_response[\"Policy\"][\"Arn\"]\r\n",
    "except ClientError as error:\r\n",
    "    if error.response[\"Error\"][\"Code\"] == \"EntityAlreadyExists\":\r\n",
    "        print(\"Policy already exists... hence retrieving policy arn\")\r\n",
    "        saas_assume_role_policy_arn = (\r\n",
    "            \"arn:aws:iam::\" + SAAS_ACCOUNT_ID + \":policy/\" + SAAS_ASSUME_ROLE_POLICY_NAME\r\n",
    "        )\r\n",
    "    else:\r\n",
    "        print(\"Unexpected error occured while creating policy...\", error)"
   ],
   "outputs": [],
   "metadata": {}
  },
  {
   "cell_type": "code",
   "execution_count": null,
   "source": [
    "try:\r\n",
    "    create_policy_response = saas_iam_client.create_policy(\r\n",
    "        PolicyName=SAAS_S3_POLICY_NAME, PolicyDocument=json.dumps(SAAS_S3_POLICY)\r\n",
    "    )\r\n",
    "    saas_s3_policy_arn = create_policy_response[\"Policy\"][\"Arn\"]\r\n",
    "except ClientError as error:\r\n",
    "    if error.response[\"Error\"][\"Code\"] == \"EntityAlreadyExists\":\r\n",
    "        print(\"Policy already exists... Hence retrieving policy arn\")\r\n",
    "        saas_s3_policy_arn = \"arn:aws:iam::\" + SAAS_ACCOUNT_ID + \":policy/\" + SAAS_S3_POLICY_NAME\r\n",
    "    else:\r\n",
    "        print(\"Unexpected error occured while creating policy...\", error)"
   ],
   "outputs": [],
   "metadata": {}
  },
  {
   "cell_type": "markdown",
   "source": [
    "Then create the group:"
   ],
   "metadata": {}
  },
  {
   "cell_type": "code",
   "execution_count": null,
   "source": [
    "try:\r\n",
    "    create_group_response = saas_iam_client.create_group(GroupName=SAAS_USER_GROUP_NAME)\r\n",
    "except ClientError as error:\r\n",
    "    if error.response[\"Error\"][\"Code\"] == \"EntityAlreadyExists\":\r\n",
    "        print(\"Group already exists... reusing it\")\r\n",
    "    else:\r\n",
    "        print(\"Unexpected error occured while creating group... \", error)"
   ],
   "outputs": [],
   "metadata": {}
  },
  {
   "cell_type": "markdown",
   "source": [
    "Next attach the policies to the group:"
   ],
   "metadata": {}
  },
  {
   "cell_type": "code",
   "execution_count": null,
   "source": [
    "try:\r\n",
    "    attach_policy_response = saas_iam_client.attach_group_policy(\r\n",
    "        GroupName=SAAS_USER_GROUP_NAME, PolicyArn=saas_assume_role_policy_arn\r\n",
    "    )\r\n",
    "except ClientError as error:\r\n",
    "    print(\"Unexpected error occurred while attaching policy...\", error)\r\n",
    "\r\n",
    "try:\r\n",
    "    attach_policy_response = saas_iam_client.attach_group_policy(\r\n",
    "        GroupName=SAAS_USER_GROUP_NAME, PolicyArn=saas_s3_policy_arn\r\n",
    "    )\r\n",
    "except ClientError as error:\r\n",
    "    print(\"Unexpected error occurred while attaching policy...\", error)"
   ],
   "outputs": [],
   "metadata": {}
  },
  {
   "cell_type": "markdown",
   "source": [
    "Let’s create the user, see how to manage the access keys if the user already exists:"
   ],
   "metadata": {}
  },
  {
   "cell_type": "code",
   "execution_count": null,
   "source": [
    "try:\r\n",
    "    create_user_response = saas_iam_client.create_user(UserName=SAAS_USER_NAME)\r\n",
    "except ClientError as error:\r\n",
    "    if error.response[\"Error\"][\"Code\"] == \"EntityAlreadyExists\":\r\n",
    "        print(\r\n",
    "            \"User already exists... We reuse it but will recreate a new Access Key after deleting the existings\"\r\n",
    "        )\r\n",
    "        user_access_keys = saas_iam_client.list_access_keys(UserName=SAAS_USER_NAME)\r\n",
    "        for AccessKeyId in [\r\n",
    "            element[\"AccessKeyId\"] for element in user_access_keys[\"AccessKeyMetadata\"]\r\n",
    "        ]:\r\n",
    "            saas_iam_client.delete_access_key(UserName=SAAS_USER_NAME, AccessKeyId=AccessKeyId)\r\n",
    "    else:\r\n",
    "        print(\"Unexpected error occured while creating user....\", error)"
   ],
   "outputs": [],
   "metadata": {}
  },
  {
   "cell_type": "markdown",
   "source": [
    "To give programmatic access we create a new Access Key and Secret for the user:"
   ],
   "metadata": {}
  },
  {
   "cell_type": "code",
   "execution_count": null,
   "source": [
    "try:\r\n",
    "    create_akey_response = saas_iam_client.create_access_key(UserName=SAAS_USER_NAME)\r\n",
    "except ClientError as error:\r\n",
    "    if error.response[\"Error\"][\"Code\"] == \"EntityAlreadyExists\":\r\n",
    "        print(\"Key already exists...\")\r\n",
    "    else:\r\n",
    "        print(\"Unexpected error occured while creating user....\", error)"
   ],
   "outputs": [],
   "metadata": {}
  },
  {
   "cell_type": "markdown",
   "source": [
    "Finally, add the User to the Group of Autopilots:"
   ],
   "metadata": {}
  },
  {
   "cell_type": "code",
   "execution_count": null,
   "source": [
    "try:\r\n",
    "    user_to_group_response = saas_iam_client.add_user_to_group(\r\n",
    "        GroupName=SAAS_USER_GROUP_NAME, UserName=SAAS_USER_NAME\r\n",
    "    )\r\n",
    "except ClientError as error:\r\n",
    "    print(\"Unexpected error occured while adding user to group\", error)"
   ],
   "outputs": [],
   "metadata": {}
  },
  {
   "cell_type": "markdown",
   "source": [
    "### Update the credentials file\r\n",
    "\r\n",
    "Create the user profile for the `saas_user` in the `.aws/credentials` file."
   ],
   "metadata": {}
  },
  {
   "cell_type": "code",
   "execution_count": null,
   "source": [
    "import configparser\r\n",
    "from pathlib import Path\r\n",
    "\r\n",
    "credentials_config = configparser.ConfigParser()\r\n",
    "credentials_config.read(str(Path.home()) + \"/.aws/credentials\")"
   ],
   "outputs": [],
   "metadata": {}
  },
  {
   "cell_type": "code",
   "execution_count": null,
   "source": [
    "if not credentials_config.has_section(SAAS_USER_PROFILE):\r\n",
    "    credentials_config.add_section(SAAS_USER_PROFILE)\r\n",
    "\r\n",
    "credentials_config[SAAS_USER_PROFILE][\"aws_access_key_id\"] = create_akey_response[\"AccessKey\"][\r\n",
    "    \"AccessKeyId\"\r\n",
    "]\r\n",
    "credentials_config[SAAS_USER_PROFILE][\"aws_secret_access_key\"] = create_akey_response[\"AccessKey\"][\r\n",
    "    \"SecretAccessKey\"\r\n",
    "]\r\n",
    "\r\n",
    "with open(str(Path.home()) + \"/.aws/credentials\", \"w\") as configfile:\r\n",
    "    credentials_config.write(configfile, space_around_delimiters=False)"
   ],
   "outputs": [],
   "metadata": {}
  },
  {
   "cell_type": "markdown",
   "source": [
    "This completes the configuration of IAM entities that are needed for the cross-account implementation of the Autopilot job."
   ],
   "metadata": {}
  },
  {
   "cell_type": "markdown",
   "source": [
    "## Autopilot cross-account access\n",
    "\n",
    "This is the core objective of the notebook, where we demonstrate the main differences with respect to the single account scenario.\n",
    "\n",
    "First we prepare the dataset the Autopilot job will use for training the models."
   ],
   "metadata": {}
  },
  {
   "cell_type": "markdown",
   "source": [
    "### Data\n",
    "\n",
    "We reuse the same dataset adopted in the SageMaker example: [Top Candidates Customer Churn Prediction with Amazon SageMaker Autopilot and Batch Transform (Python SDK)](https://github.com/aws/amazon-sagemaker-examples/blob/master/autopilot/autopilot_customer_churn_high_level_with_evaluation.ipynb).\n",
    "\n",
    "For a full explanation of the Data, you can refer to the original example.\n",
    "\n",
    "We skip the data inspection and proceed directly to cross-account Autopilot job invocation."
   ],
   "metadata": {}
  },
  {
   "cell_type": "markdown",
   "source": [
    "Note: In case of failure of the following copy, due to the [Eventual consistency](https://docs.aws.amazon.com/AWSEC2/latest/APIReference/query-api-troubleshooting.html#eventual-consistency) of the IAM resources that we have just created, you can retry it in few seconds."
   ],
   "metadata": {}
  },
  {
   "cell_type": "code",
   "execution_count": null,
   "source": [
    "# delay introduced to mitigate the eventual consistency of IAM resources\r\n",
    "! sleep 10\r\n",
    "\r\n",
    "!aws s3 cp $DATASET_URI ./ --profile saas_user"
   ],
   "outputs": [],
   "metadata": {}
  },
  {
   "cell_type": "markdown",
   "source": [
    "### Split the dataset for the Autopilot job and the inference phase\n",
    "\n",
    "After you load the dataset, split it into two parts:\n",
    "\n",
    "- 80% as input to the Autopilot job for the training of the best model\n",
    "- 20% for test inference on the model endpoint that will be deployed\n",
    "\n",
    "Autopilot applies a [cross-validation](https://aws.amazon.com/it/about-aws/whats-new/2021/05/amazon-sagemaker-autopilot-adds-automatic-cross-validation-to-im/) resampling procedure, on the dataset passed as input, to all candidate algorithms to test their ability to predict data they have not been trained on."
   ],
   "metadata": {}
  },
  {
   "cell_type": "code",
   "execution_count": null,
   "source": [
    "import numpy as np\r\n",
    "import pandas as pd\r\n",
    "\r\n",
    "churn = pd.read_csv(\"./churn.txt\")\r\n",
    "\r\n",
    "train_data = churn.sample(frac=0.8, random_state=200)\r\n",
    "test_data = churn.drop(train_data.index)\r\n",
    "test_data_no_target = test_data.drop(columns=[\"Churn?\"])"
   ],
   "outputs": [],
   "metadata": {}
  },
  {
   "cell_type": "markdown",
   "source": [
    "Let's save the train data into a file locally that we will pass to the `fit` method of the `AutoML` estimator."
   ],
   "metadata": {}
  },
  {
   "cell_type": "code",
   "execution_count": null,
   "source": [
    "train_file = \"train_data.csv\"\r\n",
    "train_data.to_csv(train_file, index=False, header=True)"
   ],
   "outputs": [],
   "metadata": {}
  },
  {
   "cell_type": "markdown",
   "source": [
    "## Autopilot training job, deploy and prediction\n",
    "\n",
    "The following are the steps for the cross-account invocation:\n",
    "\n",
    "1.\tInitiate a session as `saas_user` in the SaaS account loading the profile from the `credentials`\n",
    "2.\tAssume the Role int the customer account via AWS STS\n",
    "3.\tSet up and train the AutoML estimator in the customer account\n",
    "4.\tDeploy the top candidate model proposed by AutoML in the customer account\n",
    "5.\tInvoke the deployed model endpoint for the prediction on test data\n"
   ],
   "metadata": {}
  },
  {
   "cell_type": "markdown",
   "source": [
    "### 1. Initiate the user session in the SaaS account\n",
    "\n",
    "The Setup of IAM entities has created the `saas_user` identified by the `saas_user` profile in the `.aws/credentials`. We initiate a boto3 session with such profile.\n"
   ],
   "metadata": {}
  },
  {
   "cell_type": "code",
   "execution_count": null,
   "source": [
    "saas_user_session = boto3.session.Session(profile_name=SAAS_USER_PROFILE, region_name=REGION)"
   ],
   "outputs": [],
   "metadata": {}
  },
  {
   "cell_type": "markdown",
   "source": [
    "The `saas_user` inherits from the `AutopilotUsers` group the permission to assume the `customer_trusting_saas` role in the customer account."
   ],
   "metadata": {}
  },
  {
   "cell_type": "markdown",
   "source": [
    "### 2.\tAssume the role in the customer account via AWS STS\n",
    "\n",
    "AWS STS provides the credentials for a temporary session that will be initiated in the Customer Account."
   ],
   "metadata": {}
  },
  {
   "cell_type": "code",
   "execution_count": null,
   "source": [
    "saas_sts_client = saas_user_session.client(\"sts\", region_name=REGION)"
   ],
   "outputs": [],
   "metadata": {}
  },
  {
   "cell_type": "markdown",
   "source": [
    "The default [session duration](https://docs.aws.amazon.com/STS/latest/APIReference/API_AssumeRole.html) is 1 hour. We set it to the maximum duration session value set for the role. If the session expires, it can be recreated by performing the following steps again.\n",
    "\n",
    "We adopt a retry process to address the [Eventual consistency](https://docs.aws.amazon.com/AWSEC2/latest/APIReference/query-api-troubleshooting.html#eventual-consistency) of the IAM resources that we have just created."
   ],
   "metadata": {}
  },
  {
   "cell_type": "code",
   "execution_count": null,
   "source": [
    "from time import sleep"
   ],
   "outputs": [],
   "metadata": {}
  },
  {
   "cell_type": "code",
   "execution_count": null,
   "source": [
    "retries = 0\r\n",
    "MAX_RETRIES = 2\r\n",
    "\r\n",
    "while retries < MAX_RETRIES:\r\n",
    "    try:\r\n",
    "        sleep(10 + 10 * retries)\r\n",
    "        assumed_role_object = saas_sts_client.assume_role(\r\n",
    "            RoleArn=CUSTOMER_TRUST_SAAS_ROLE_ARN,\r\n",
    "            RoleSessionName=\"sagemaker_autopilot\",\r\n",
    "            ExternalId=EXTERNAL_ID,\r\n",
    "            DurationSeconds=MAX_SESSION_DURATION,\r\n",
    "        )\r\n",
    "        break\r\n",
    "    except:\r\n",
    "        print(\"Unexpected error occured while assuming role, retries \", retries)\r\n",
    "        retries += 1\r\n",
    "\r\n",
    "if retries >= MAX_RETRIES:\r\n",
    "    # last attempt, if fails it will display the detailed trace for troubleshooting\r\n",
    "    sleep(10 + 10 * retries)\r\n",
    "    assumed_role_object = saas_sts_client.assume_role(\r\n",
    "        RoleArn=CUSTOMER_TRUST_SAAS_ROLE_ARN,\r\n",
    "        RoleSessionName=\"sagemaker_autopilot\",\r\n",
    "        ExternalId=EXTERNAL_ID,\r\n",
    "        DurationSeconds=MAX_SESSION_DURATION,\r\n",
    "    )"
   ],
   "outputs": [],
   "metadata": {}
  },
  {
   "cell_type": "code",
   "execution_count": null,
   "source": [
    "assumed_role_credentials = assumed_role_object[\"Credentials\"]\r\n",
    "\r\n",
    "assumed_role_session = boto3.Session(\r\n",
    "    aws_access_key_id=assumed_role_credentials[\"AccessKeyId\"],\r\n",
    "    aws_secret_access_key=assumed_role_credentials[\"SecretAccessKey\"],\r\n",
    "    aws_session_token=assumed_role_credentials[\"SessionToken\"],\r\n",
    "    region_name=REGION,\r\n",
    ")\r\n",
    "\r\n",
    "sagemaker_session = sagemaker.Session(boto_session=assumed_role_session)"
   ],
   "outputs": [],
   "metadata": {}
  },
  {
   "cell_type": "markdown",
   "source": [
    "Note: the sagemaker_session is needed for using the high level `AutoML` estimator."
   ],
   "metadata": {}
  },
  {
   "cell_type": "markdown",
   "source": [
    "### 3. Setting up and train the AutoML estimator in the customer account\n",
    "\n",
    "We will use the AutoML estimator from SageMaker Python SDK to invoke the Autopilot job to train a set of candidate models for the training data.\n",
    "\n",
    "The setup of AutoML object is similar to the single account scenario, but with the following differences for the cross-account invocation:\n",
    "* The role for SageMaker service is referred in the customer account `CUSTOMER_TRUST_SAAS_ROLE_ARN`\n",
    "* The sagemaker_session is the temporary session created by means of the STS service\n",
    "\n",
    "Currently, Autopilot supports only tabular datasets in CSV format. Either all files should have a header row, or the first file of the dataset, when sorted in alphabetical/lexical order by name, is expected to have a header row."
   ],
   "metadata": {}
  },
  {
   "cell_type": "code",
   "execution_count": null,
   "source": [
    "target_attribute_name = \"Churn?\""
   ],
   "outputs": [],
   "metadata": {}
  },
  {
   "cell_type": "code",
   "execution_count": null,
   "source": [
    "from sagemaker import AutoML\r\n",
    "from time import gmtime\r\n",
    "from time import sleep\r\n",
    "from time import strftime\r\n",
    "\r\n",
    "timestamp_suffix = strftime(\"%d-%H-%M-%S\", gmtime())\r\n",
    "base_job_name = \"automl-churn-sdk-\" + timestamp_suffix\r\n",
    "\r\n",
    "target_attribute_name = \"Churn?\"\r\n",
    "target_attribute_values = np.unique(train_data[target_attribute_name])\r\n",
    "target_attribute_true_value = target_attribute_values[1]  # 'True.'"
   ],
   "outputs": [],
   "metadata": {}
  },
  {
   "cell_type": "code",
   "execution_count": null,
   "source": [
    "automl = AutoML(\r\n",
    "    role=CUSTOMER_TRUST_SAAS_ROLE_ARN,\r\n",
    "    target_attribute_name=target_attribute_name,\r\n",
    "    base_job_name=base_job_name,\r\n",
    "    sagemaker_session=sagemaker_session,\r\n",
    "    max_candidates=10,\r\n",
    ")"
   ],
   "outputs": [],
   "metadata": {}
  },
  {
   "cell_type": "markdown",
   "source": [
    "We now launch the Autopilot job by calling the `fit` method of the `AutoML` estimator in the same way as in the single account example. We consider the following alternative options for providing the training dataset to the estimator:\r\n",
    "\r\n",
    "#### First option: upload a local file and train by fit method\r\n",
    "\r\n",
    "We simply pass the training dataset by referring to the local file that the fit method will upload into the default Amazon S3 bucket used by SageMaker in the customer account.\r\n",
    "\r\n",
    "```python\r\n",
    "automl.fit(train_file, job_name=base_job_name, wait=False, logs=False)\r\n",
    "```"
   ],
   "metadata": {}
  },
  {
   "cell_type": "markdown",
   "source": [
    "#### Second option: cross-account copy\r\n",
    "\r\n",
    "Most likely the training dataset is located into an Amazon S3 bucket owned by the SaaS account. We copy the dataset from the SaaS account into the customer account, and refer to the URI of the copy in the `fit` method.\r\n",
    "\r\n",
    "First we upload the dataset into a local bucket of the SaaS account, for convenience we use the SageMaker default bucket in the Region"
   ],
   "metadata": {}
  },
  {
   "cell_type": "code",
   "execution_count": null,
   "source": [
    "DATA_PREFIX = \"auto-ml-input-data\""
   ],
   "outputs": [],
   "metadata": {}
  },
  {
   "cell_type": "code",
   "execution_count": null,
   "source": [
    "local_session = sagemaker.Session(boto_session=saas_user_session)\r\n",
    "local_session_bucket = local_session.default_bucket()"
   ],
   "outputs": [],
   "metadata": {}
  },
  {
   "cell_type": "code",
   "execution_count": null,
   "source": [
    "train_data_s3_path = local_session.upload_data(path=train_file, key_prefix=DATA_PREFIX)\r\n",
    "\r\n",
    "print(\"Train data uploaded to:\", train_data_s3_path)"
   ],
   "outputs": [],
   "metadata": {}
  },
  {
   "cell_type": "markdown",
   "source": [
    "To allow the cross-account copy we set the following policy into the local bucket, only for the time needed for the copy operation:"
   ],
   "metadata": {}
  },
  {
   "cell_type": "code",
   "execution_count": null,
   "source": [
    "train_data_s3_arn = \"arn:aws:s3:::{}/{}/{}\".format(local_session_bucket, DATA_PREFIX, train_file)\r\n",
    "\r\n",
    "bucket_policy = {\r\n",
    "    \"Version\": \"2012-10-17\",\r\n",
    "    \"Statement\": [\r\n",
    "        {\r\n",
    "            \"Effect\": \"Allow\",\r\n",
    "            \"Principal\": {\"AWS\": CUSTOMER_TRUST_SAAS_ROLE_ARN},\r\n",
    "            \"Action\": \"s3:GetObject\",\r\n",
    "            \"Resource\": train_data_s3_arn,\r\n",
    "        }\r\n",
    "    ],\r\n",
    "}\r\n",
    "# Convert the policy from JSON dict to string\r\n",
    "bucket_policy = json.dumps(bucket_policy)\r\n",
    "\r\n",
    "# Set the new policy\r\n",
    "saas_s3_client = saas_user_session.client(\"s3\")\r\n",
    "saas_s3_client.put_bucket_policy(Bucket=local_session_bucket, Policy=bucket_policy)"
   ],
   "outputs": [],
   "metadata": {}
  },
  {
   "cell_type": "markdown",
   "source": [
    "Then copy performed by the assumed role in the customer account:"
   ],
   "metadata": {}
  },
  {
   "cell_type": "code",
   "execution_count": null,
   "source": [
    "assumed_role_s3_client = boto3.client(\r\n",
    "    \"s3\",\r\n",
    "    aws_access_key_id=assumed_role_credentials[\"AccessKeyId\"],\r\n",
    "    aws_secret_access_key=assumed_role_credentials[\"SecretAccessKey\"],\r\n",
    "    aws_session_token=assumed_role_credentials[\"SessionToken\"],\r\n",
    ")"
   ],
   "outputs": [],
   "metadata": {}
  },
  {
   "cell_type": "code",
   "execution_count": null,
   "source": [
    "target_train_key = \"{}/{}\".format(DATA_PREFIX, train_file)\r\n",
    "assumed_role_s3_client.copy_object(\r\n",
    "    Bucket=sagemaker_session.default_bucket(),\r\n",
    "    CopySource=train_data_s3_path.split(\"://\")[1],\r\n",
    "    Key=target_train_key,\r\n",
    ")"
   ],
   "outputs": [],
   "metadata": {}
  },
  {
   "cell_type": "markdown",
   "source": [
    "Delete the bucket policy so that the access has been guaranteed only for the time of the copy"
   ],
   "metadata": {}
  },
  {
   "cell_type": "code",
   "execution_count": null,
   "source": [
    "saas_s3_client.delete_bucket_policy(Bucket=local_session_bucket)"
   ],
   "outputs": [],
   "metadata": {}
  },
  {
   "cell_type": "markdown",
   "source": [
    "Finally, we launch the Autopilot job passing the URI of the object copy"
   ],
   "metadata": {}
  },
  {
   "cell_type": "code",
   "execution_count": null,
   "source": [
    "target_train_uri = \"s3://{}/{}\".format(sagemaker_session.default_bucket(), target_train_key)\r\n",
    "automl.fit(target_train_uri, job_name=base_job_name, wait=False, logs=False)"
   ],
   "outputs": [],
   "metadata": {}
  },
  {
   "cell_type": "markdown",
   "source": [
    "Another option is to refer to the uri of the source dataset in the bucket in SaaS Account. In this case the bucket policy should include `s3:ListBucket` action for the source bucket: \r\n",
    "\r\n",
    "```python\r\n",
    "        {\r\n",
    "            \"Effect\": \"Allow\",\r\n",
    "            \"Principal\": {\r\n",
    "                \"AWS\": \"arn:aws:iam::CUSTOMER_ACCOUNT_ID:role/customer_trusting_saas\"\r\n",
    "            },\r\n",
    "            \"Action\": \"s3:ListBucket\",\r\n",
    "            \"Resource\": \"arn:aws:s3:::sagemaker-REGION-SAAS_ACCOUNT_ID\"\r\n",
    "        }\r\n",
    "```\r\n",
    "\r\n",
    "and the policy should be set for the time of the entire training."
   ],
   "metadata": {}
  },
  {
   "cell_type": "markdown",
   "source": [
    "#### Tracking SageMaker Autopilot Job Progress\n",
    "\n",
    "We can use the `describe_auto_ml_job` method to check the status of our SageMaker Autopilot job."
   ],
   "metadata": {}
  },
  {
   "cell_type": "code",
   "execution_count": null,
   "source": [
    "print(\"JobStatus - Secondary Status\")\r\n",
    "print(\"------------------------------\")\r\n",
    "\r\n",
    "\r\n",
    "describe_response = automl.describe_auto_ml_job()\r\n",
    "print(describe_response[\"AutoMLJobStatus\"] + \" - \" + describe_response[\"AutoMLJobSecondaryStatus\"])\r\n",
    "job_run_status = describe_response[\"AutoMLJobStatus\"]\r\n",
    "\r\n",
    "while job_run_status not in (\"Failed\", \"Completed\", \"Stopped\"):\r\n",
    "    describe_response = automl.describe_auto_ml_job()\r\n",
    "    job_run_status = describe_response[\"AutoMLJobStatus\"]\r\n",
    "\r\n",
    "    print(\r\n",
    "        describe_response[\"AutoMLJobStatus\"] + \" - \" + describe_response[\"AutoMLJobSecondaryStatus\"]\r\n",
    "    )\r\n",
    "    sleep(30)"
   ],
   "outputs": [],
   "metadata": {
    "scrolled": true
   }
  },
  {
   "cell_type": "markdown",
   "source": [
    "**Note:** Reconnect to the Autopilot job\n",
    "\n",
    "As an Autopilot job can take long time, if the session token expires during the fit you can create a new session following the steps described earlier in section **Assume the role in the customer account via AWS STS** and retrieve the current Autopilot job reference by executing:\n",
    "\n",
    "```python\n",
    "automl = AutoML.attach(auto_ml_job_name=base_job_name, sagemaker_session=sagemaker_session)\n",
    "```"
   ],
   "metadata": {}
  },
  {
   "cell_type": "markdown",
   "source": [
    "### 4. Deploy the Top Candidate proposed by AutoML\n",
    "\n",
    "Autopilot job trains and returns a set of trained candidate models, identifying among them the top candidate that optimizes the evaluation metric related to the [type of ML problem](https://docs.aws.amazon.com/sagemaker/latest/dg/autopilot-problem-types.html).\n",
    "\n",
    "Here we only demonstrate the deployment of the top candidate proposed by AutoML, but you have the option to choose a different candidate that would better fit your business criteria.\n",
    "\n",
    "First we review the performance achieved by the top candidate in the cross-validation:"
   ],
   "metadata": {}
  },
  {
   "cell_type": "code",
   "execution_count": null,
   "source": [
    "best_candidate = automl.describe_auto_ml_job()[\"BestCandidate\"]\r\n",
    "best_candidate_name = best_candidate[\"CandidateName\"]\r\n",
    "\r\n",
    "print(\"\\n\")\r\n",
    "print(\"CandidateName: \" + best_candidate_name)\r\n",
    "print(\r\n",
    "    \"FinalAutoMLJobObjectiveMetricName: \"\r\n",
    "    + best_candidate[\"FinalAutoMLJobObjectiveMetric\"][\"MetricName\"]\r\n",
    ")\r\n",
    "print(\r\n",
    "    \"FinalAutoMLJobObjectiveMetricValue: \"\r\n",
    "    + str(best_candidate[\"FinalAutoMLJobObjectiveMetric\"][\"Value\"])\r\n",
    ")"
   ],
   "outputs": [],
   "metadata": {}
  },
  {
   "cell_type": "markdown",
   "source": [
    "If the performance is good enough for our business criteria, we deploy the top candidate in the **customer account**:"
   ],
   "metadata": {}
  },
  {
   "cell_type": "code",
   "execution_count": null,
   "source": [
    "from sagemaker.predictor import Predictor\r\n",
    "from sagemaker.serializers import CSVSerializer\r\n",
    "from sagemaker.deserializers import CSVDeserializer\r\n",
    "\r\n",
    "inference_response_keys = [\"predicted_label\", \"probability\"]\r\n",
    "\r\n",
    "predictor = automl.deploy(\r\n",
    "    initial_instance_count=1,\r\n",
    "    instance_type=\"ml.m5.large\",\r\n",
    "    inference_response_keys=inference_response_keys,\r\n",
    "    predictor_cls=Predictor,\r\n",
    "    serializer=CSVSerializer(),\r\n",
    "    deserializer=CSVDeserializer(),\r\n",
    ")\r\n",
    "\r\n",
    "print(\"Created endpoint: {}\".format(predictor.endpoint_name))"
   ],
   "outputs": [],
   "metadata": {}
  },
  {
   "cell_type": "markdown",
   "source": [
    "### 5. Prediction on test data\n",
    "\n",
    "Finally, we access the model endpoint for the prediction of the label output for the test data:"
   ],
   "metadata": {}
  },
  {
   "cell_type": "code",
   "execution_count": null,
   "source": [
    "predictor.predict(test_data_no_target.to_csv(sep=\",\", header=False, index=False))"
   ],
   "outputs": [],
   "metadata": {}
  },
  {
   "cell_type": "markdown",
   "source": [
    "**Note:** Connect to a deployed endpoint\n",
    "\n",
    "If the session token expires after the deployment of the endpoint, you can recreate a new session following the steps described earlier in section **Assume the role in the customer account via AWS STS** and connect to the already deployed endpoint by executing:\n",
    "\n",
    "```python\n",
    "predictor = Predictor(predictor.endpoint_name, \n",
    "                      sagemaker_session = sagemaker_session,\n",
    "                      serializer=CSVSerializer(), \n",
    "                      deserializer=CSVDeserializer())\n",
    "```"
   ],
   "metadata": {}
  },
  {
   "cell_type": "markdown",
   "source": [
    "## Clean up\n",
    "\n",
    "To avoid incurring unnecessary charges, delete the endpoints and resources that were created when deploying the model after they are no longer needed. \n"
   ],
   "metadata": {}
  },
  {
   "cell_type": "markdown",
   "source": [
    "### Delete the deployed model endpoint\n",
    "\n",
    "The model endpoint is deployed in a container that is always active. We delete it first main consumption of credits."
   ],
   "metadata": {}
  },
  {
   "cell_type": "code",
   "execution_count": null,
   "source": [
    "predictor.delete_endpoint()"
   ],
   "outputs": [],
   "metadata": {}
  },
  {
   "cell_type": "markdown",
   "source": [
    "### Delete the artifacts generated by the Autopilot job\n",
    "\n",
    "Now delete all the artifacts created by the Autopilot job like generated candidate models, scripts, notebooks, etc.\n",
    "\n",
    "We use the [high level resource for Amazon S3](https://boto3.amazonaws.com/v1/documentation/api/latest/guide/resources.html) to simplify the operation."
   ],
   "metadata": {}
  },
  {
   "cell_type": "code",
   "execution_count": null,
   "source": [
    "assumed_role_s3_resource = boto3.resource(\r\n",
    "    \"s3\",\r\n",
    "    aws_access_key_id=assumed_role_credentials[\"AccessKeyId\"],\r\n",
    "    aws_secret_access_key=assumed_role_credentials[\"SecretAccessKey\"],\r\n",
    "    aws_session_token=assumed_role_credentials[\"SessionToken\"],\r\n",
    ")\r\n",
    "s3_bucket = assumed_role_s3_resource.Bucket(automl.sagemaker_session.default_bucket())\r\n",
    "s3_bucket.objects.filter(Prefix=base_job_name).delete()"
   ],
   "outputs": [],
   "metadata": {}
  },
  {
   "cell_type": "markdown",
   "source": [
    "### Delete the training dataset copied into the customer account"
   ],
   "metadata": {}
  },
  {
   "cell_type": "code",
   "execution_count": null,
   "source": [
    "from urllib.parse import urlparse\r\n",
    "\r\n",
    "train_data_uri = automl.describe_auto_ml_job()[\"InputDataConfig\"][0][\"DataSource\"][\"S3DataSource\"][\r\n",
    "    \"S3Uri\"\r\n",
    "]\r\n",
    "\r\n",
    "o = urlparse(train_data_uri, allow_fragments=False)\r\n",
    "assumed_role_s3_resource.Object(o.netloc, o.path.lstrip(\"/\")).delete()"
   ],
   "outputs": [],
   "metadata": {}
  },
  {
   "cell_type": "markdown",
   "source": [
    "### Cleanup of IAM entities\r\n",
    "\r\n",
    "We delete elements in reverse order to the creation phase.\r\n",
    "\r\n",
    "#### 1. Remove the user from the group in the SaaS account:"
   ],
   "metadata": {}
  },
  {
   "cell_type": "code",
   "execution_count": null,
   "source": [
    "remove_user_from_group_response = saas_iam_client.remove_user_from_group(\r\n",
    "    GroupName=SAAS_USER_GROUP_NAME, UserName=SAAS_USER_NAME\r\n",
    ")"
   ],
   "outputs": [],
   "metadata": {}
  },
  {
   "cell_type": "markdown",
   "source": [
    "#### 2. Delete the User credentials, remove the access keys from the user and remove the user from the SaaS account:"
   ],
   "metadata": {}
  },
  {
   "cell_type": "code",
   "execution_count": null,
   "source": [
    "credentials_config.remove_section(SAAS_USER_PROFILE)\r\n",
    "with open(str(Path.home()) + \"/.aws/credentials\", \"w\") as configfile:\r\n",
    "    credentials_config.write(configfile, space_around_delimiters=False)"
   ],
   "outputs": [],
   "metadata": {}
  },
  {
   "cell_type": "code",
   "execution_count": null,
   "source": [
    "user_access_keys = saas_iam_client.list_access_keys(UserName=SAAS_USER_NAME)\r\n",
    "for AccessKeyId in [element[\"AccessKeyId\"] for element in user_access_keys[\"AccessKeyMetadata\"]]:\r\n",
    "    saas_iam_client.delete_access_key(UserName=SAAS_USER_NAME, AccessKeyId=AccessKeyId)"
   ],
   "outputs": [],
   "metadata": {}
  },
  {
   "cell_type": "code",
   "execution_count": null,
   "source": [
    "delete_user_response = saas_iam_client.delete_user(UserName=SAAS_USER_NAME)"
   ],
   "outputs": [],
   "metadata": {}
  },
  {
   "cell_type": "markdown",
   "source": [
    "#### 3. Detach the policies from the group in the SaaS account, delete group and the policies"
   ],
   "metadata": {}
  },
  {
   "cell_type": "code",
   "execution_count": null,
   "source": [
    "attached_group_policies = saas_iam_client.list_attached_group_policies(\r\n",
    "    GroupName=SAAS_USER_GROUP_NAME\r\n",
    ")\r\n",
    "for PolicyArn in [element[\"PolicyArn\"] for element in attached_group_policies[\"AttachedPolicies\"]]:\r\n",
    "    detach_policy_response = saas_iam_client.detach_group_policy(\r\n",
    "        GroupName=SAAS_USER_GROUP_NAME, PolicyArn=PolicyArn\r\n",
    "    )\r\n",
    "\r\n",
    "delete_group_response = saas_iam_client.delete_group(GroupName=SAAS_USER_GROUP_NAME)\r\n",
    "\r\n",
    "delete_policy_response = saas_iam_client.delete_policy(PolicyArn=saas_assume_role_policy_arn)\r\n",
    "\r\n",
    "delete_policy_response = saas_iam_client.delete_policy(PolicyArn=saas_s3_policy_arn)"
   ],
   "outputs": [],
   "metadata": {}
  },
  {
   "cell_type": "markdown",
   "source": [
    "#### 4. Detach the AWS policies from the role in the customer account, delete the role and the policy"
   ],
   "metadata": {}
  },
  {
   "cell_type": "code",
   "execution_count": null,
   "source": [
    "attached_role_policies = customer_iam_client.list_attached_role_policies(\r\n",
    "    RoleName=CUSTOMER_TRUST_SAAS_ROLE_NAME\r\n",
    ")\r\n",
    "for PolicyArn in [element[\"PolicyArn\"] for element in attached_role_policies[\"AttachedPolicies\"]]:\r\n",
    "    detach_policy_response = customer_iam_client.detach_role_policy(\r\n",
    "        RoleName=CUSTOMER_TRUST_SAAS_ROLE_NAME, PolicyArn=PolicyArn\r\n",
    "    )\r\n",
    "\r\n",
    "delete_role_response = customer_iam_client.delete_role(RoleName=CUSTOMER_TRUST_SAAS_ROLE_NAME)\r\n",
    "\r\n",
    "delete_policy_response = customer_iam_client.delete_policy(PolicyArn=customer_s3_policy_arn)"
   ],
   "outputs": [],
   "metadata": {}
  }
 ],
 "metadata": {
  "instance_type": "ml.t3.medium",
  "kernelspec": {
   "name": "python3",
   "display_name": "Python 3.8.10 64-bit (windows store)"
  },
  "language_info": {
   "codemirror_mode": {
    "name": "ipython",
    "version": 3
   },
   "file_extension": ".py",
   "mimetype": "text/x-python",
   "name": "python",
   "nbconvert_exporter": "python",
   "pygments_lexer": "ipython3",
   "version": "3.8.10"
  },
  "notice": "Copyright 2017 Amazon.com, Inc. or its affiliates. All Rights Reserved.  Licensed under the Apache License, Version 2.0 (the \"License\"). You may not use this file except in compliance with the License. A copy of the License is located at http://aws.amazon.com/apache2.0/ or in the \"license\" file accompanying this file. This file is distributed on an \"AS IS\" BASIS, WITHOUT WARRANTIES OR CONDITIONS OF ANY KIND, either express or implied. See the License for the specific language governing permissions and limitations under the License.",
  "interpreter": {
   "hash": "6042de1f1a42384e038a9d2836aa4295762cf34ce349843f10f0ff3ffd40ad30"
  }
 },
 "nbformat": 4,
 "nbformat_minor": 4
}